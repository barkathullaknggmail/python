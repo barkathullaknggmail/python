{
 "cells": [
  {
   "cell_type": "code",
   "execution_count": null,
   "id": "7c89ac88-5d6f-4c23-b765-f8fc823e9ab3",
   "metadata": {},
   "outputs": [],
   "source": [
    "#Create Function Subfields()"
   ]
  },
  {
   "cell_type": "code",
   "execution_count": 7,
   "id": "921d7142-1af7-451f-9606-67075d2764ea",
   "metadata": {},
   "outputs": [],
   "source": [
    "def Subfields():\n",
    "    print(\"Sub-fields in AI are:\")\n",
    "    list1=[\"Machine Learning\",\"Neural Networks\",\"Vision\",\"Robotics\",\"Speech Processing\",\"Natural Language Processing\"]\n",
    "    for i in list1:\n",
    "        print(i)\n",
    "    "
   ]
  },
  {
   "cell_type": "code",
   "execution_count": 9,
   "id": "cb964843-c04d-4659-958d-556929d17930",
   "metadata": {},
   "outputs": [
    {
     "name": "stdout",
     "output_type": "stream",
     "text": [
      "Sub-fields in AI are:\n",
      "Machine Learning\n",
      "Neural Networks\n",
      "Vision\n",
      "Robotics\n",
      "Speech Processing\n",
      "Natural Language Processing\n"
     ]
    }
   ],
   "source": [
    "Subfields()"
   ]
  },
  {
   "cell_type": "code",
   "execution_count": null,
   "id": "e13f50d5-88fc-4088-89d9-ac6b47dd0bb1",
   "metadata": {},
   "outputs": [],
   "source": [
    "#Create Function Subfields()"
   ]
  },
  {
   "cell_type": "code",
   "execution_count": null,
   "id": "abfbab5f-f6f9-4c25-a3da-c7e554ee04e4",
   "metadata": {},
   "outputs": [],
   "source": [
    "# OddEven() OddEven()"
   ]
  },
  {
   "cell_type": "code",
   "execution_count": 23,
   "id": "b07eb356-88e6-4cc2-a0ca-4e65e90a8f24",
   "metadata": {},
   "outputs": [],
   "source": [
    "def OddEven():\n",
    "    num=int(input(\"Enter the Number:\"))\n",
    "    if(num%2!=0):\n",
    "        print(num,\" is Odd Numer\")\n",
    "    else:\n",
    "        print(num,\"is Even Number\")"
   ]
  },
  {
   "cell_type": "code",
   "execution_count": 31,
   "id": "feac3be0-98d1-4d28-846b-819925b94fc9",
   "metadata": {},
   "outputs": [
    {
     "name": "stdin",
     "output_type": "stream",
     "text": [
      "Enter the Number: 4\n"
     ]
    },
    {
     "name": "stdout",
     "output_type": "stream",
     "text": [
      "4 is Even Number\n"
     ]
    }
   ],
   "source": [
    "OddEven()"
   ]
  },
  {
   "cell_type": "code",
   "execution_count": 35,
   "id": "825a5c43-437f-4600-9eca-3ca5ac5332e7",
   "metadata": {},
   "outputs": [
    {
     "name": "stdin",
     "output_type": "stream",
     "text": [
      "Enter the Number: 15\n"
     ]
    },
    {
     "name": "stdout",
     "output_type": "stream",
     "text": [
      "15  is Odd Numer\n"
     ]
    }
   ],
   "source": [
    "OddEven()"
   ]
  },
  {
   "cell_type": "code",
   "execution_count": null,
   "id": "2bc6f74a-f581-428a-a062-430daeb76e39",
   "metadata": {},
   "outputs": [],
   "source": [
    "# Create Functon Elegible"
   ]
  },
  {
   "cell_type": "code",
   "execution_count": 52,
   "id": "2ec82903-d9eb-4ded-acc1-51e3d8fc062e",
   "metadata": {},
   "outputs": [],
   "source": [
    "def Elegible():\n",
    "    gender=input(\"Your Gender :\")\n",
    "    age=int(input(\"Your Age :\"))\n",
    "    if (gender==\"Male\"):\n",
    "        if(age>21):\n",
    "            print(\"Elegible\")\n",
    "        else:\n",
    "            print(\"Not Elegible\")\n",
    "    elif (gender==\"Female\") :\n",
    "        if(age>18):\n",
    "            print(\"Elegible\")\n",
    "        else:\n",
    "            print(\"Not Elegible\") \n",
    "    else:\n",
    "        print(\"Invalid Input Value\")\n",
    "        "
   ]
  },
  {
   "cell_type": "code",
   "execution_count": 58,
   "id": "e89a64d5-aa9e-449f-8dc8-f8302e558be4",
   "metadata": {},
   "outputs": [
    {
     "name": "stdin",
     "output_type": "stream",
     "text": [
      "Your Gender : Female\n",
      "Your Age : 18\n"
     ]
    },
    {
     "name": "stdout",
     "output_type": "stream",
     "text": [
      "Not Elegible\n"
     ]
    }
   ],
   "source": [
    "Elegible()"
   ]
  },
  {
   "cell_type": "code",
   "execution_count": 64,
   "id": "af3a2c2d-568c-4f56-876d-69fb6eadf7cd",
   "metadata": {},
   "outputs": [],
   "source": [
    "#create Function Percentage\n",
    "def percentage():\n",
    "    m1=int(input(\"Subject1 =\"))\n",
    "    m2=int(input(\"Subject2 =\"))\n",
    "    m3=int(input(\"Subject3 =\"))\n",
    "    m4=int(input(\"Subject4 =\"))\n",
    "    m5=int(input(\"Subject5 =\"))\n",
    "    total=m1+m2+m3+m4+m5\n",
    "    percent=(total/500)*100\n",
    "    print(\"Percentage : \",percent)\n",
    "    "
   ]
  },
  {
   "cell_type": "code",
   "execution_count": 66,
   "id": "6fca7d65-7987-4ba8-aa0a-f583d2600d34",
   "metadata": {},
   "outputs": [
    {
     "name": "stdin",
     "output_type": "stream",
     "text": [
      "Subject1 = 23\n",
      "Subject2 = 45\n",
      "Subject3 = 34\n",
      "Subject4 = 23\n",
      "Subject5 = 23\n"
     ]
    },
    {
     "name": "stdout",
     "output_type": "stream",
     "text": [
      "Percentage :  29.599999999999998\n"
     ]
    }
   ],
   "source": [
    "percentage()"
   ]
  },
  {
   "cell_type": "code",
   "execution_count": null,
   "id": "837de51e-554d-4f67-8e4b-5240a940a812",
   "metadata": {},
   "outputs": [],
   "source": [
    "# create Function  triangle"
   ]
  },
  {
   "cell_type": "code",
   "execution_count": 78,
   "id": "f67a7351-1279-412b-b79b-f8b6f38e641d",
   "metadata": {},
   "outputs": [],
   "source": [
    "def triangle():\n",
    "    height=int(input(\"Height :\"))\n",
    "    breadth=int(input(\"Breadth :\"))\n",
    "    print(\"Area Formula : (height*breadth)/2\")\n",
    "    area=height*breadth/2\n",
    "    print(\"Area of Triangle : \",area)\n",
    "    height1=int(input(\"Height1 :\"))\n",
    "    height2=int(input(\"Height2 :\"))\n",
    "    breadth=int(input(\"Breadth :\"))\n",
    "    print(\"Perimeter formula: height1+height2+breadth\")\n",
    "    perimeter=height1+height2+breadth\n",
    "    print(\"Perimeter of Triangle: \",perimeter)\n",
    "               "
   ]
  },
  {
   "cell_type": "code",
   "execution_count": 80,
   "id": "5eadfdb1-be41-4d09-9748-ab770a748e64",
   "metadata": {},
   "outputs": [
    {
     "name": "stdin",
     "output_type": "stream",
     "text": [
      "Height : 3\n",
      "Breath : 4\n"
     ]
    },
    {
     "name": "stdout",
     "output_type": "stream",
     "text": [
      "Area Formula : (height*breadth)/2\n",
      "Area of Triangle :  6.0\n"
     ]
    },
    {
     "name": "stdin",
     "output_type": "stream",
     "text": [
      "Height1 : 3\n",
      "Height2 : 4\n",
      "Breadth : 45\n"
     ]
    },
    {
     "name": "stdout",
     "output_type": "stream",
     "text": [
      "Perimeter formula: height1+height2+breadth\n",
      "Perimeter of Triangle:  52\n"
     ]
    }
   ],
   "source": [
    "triangle()"
   ]
  },
  {
   "cell_type": "code",
   "execution_count": null,
   "id": "0209c946-6f6b-43bf-976c-66e0ff0858af",
   "metadata": {},
   "outputs": [],
   "source": []
  },
  {
   "cell_type": "code",
   "execution_count": null,
   "id": "3fb4547a-8f5e-478a-b95a-899b51726cb9",
   "metadata": {},
   "outputs": [],
   "source": []
  }
 ],
 "metadata": {
  "kernelspec": {
   "display_name": "Python 3 (ipykernel)",
   "language": "python",
   "name": "python3"
  },
  "language_info": {
   "codemirror_mode": {
    "name": "ipython",
    "version": 3
   },
   "file_extension": ".py",
   "mimetype": "text/x-python",
   "name": "python",
   "nbconvert_exporter": "python",
   "pygments_lexer": "ipython3",
   "version": "3.12.7"
  }
 },
 "nbformat": 4,
 "nbformat_minor": 5
}
