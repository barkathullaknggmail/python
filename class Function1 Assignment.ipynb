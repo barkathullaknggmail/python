{
 "cells": [
  {
   "cell_type": "code",
   "execution_count": null,
   "id": "7c89ac88-5d6f-4c23-b765-f8fc823e9ab3",
   "metadata": {},
   "outputs": [],
   "source": [
    "# Create a class and function, and list out the items in the list"
   ]
  },
  {
   "cell_type": "code",
   "execution_count": 3,
   "id": "0af480a7-809c-4b03-aa81-5e78c1fd79e1",
   "metadata": {},
   "outputs": [],
   "source": [
    "class subAI:\n",
    "    def Subfields():\n",
    "        print(\"Sub-fields in AI are:\")\n",
    "        list1=[\"Machine Learning\",\"Neural Networks\",\"Vision\",\"Robotics\",\"Speech Processing\",\"Natural Language Processing\"]\n",
    "        for i in list1:\n",
    "            print(i)\n"
   ]
  },
  {
   "cell_type": "code",
   "execution_count": 5,
   "id": "07f8e838-45c6-4cce-8402-54c065b7b236",
   "metadata": {},
   "outputs": [
    {
     "name": "stdout",
     "output_type": "stream",
     "text": [
      "Sub-fields in AI are:\n",
      "Machine Learning\n",
      "Neural Networks\n",
      "Vision\n",
      "Robotics\n",
      "Speech Processing\n",
      "Natural Language Processing\n"
     ]
    }
   ],
   "source": [
    "subAI.Subfields()"
   ]
  },
  {
   "cell_type": "code",
   "execution_count": null,
   "id": "e13f50d5-88fc-4088-89d9-ac6b47dd0bb1",
   "metadata": {},
   "outputs": [],
   "source": [
    "# Create a function that checks whether the given number is Odd or Even"
   ]
  },
  {
   "cell_type": "code",
   "execution_count": 11,
   "id": "abfbab5f-f6f9-4c25-a3da-c7e554ee04e4",
   "metadata": {},
   "outputs": [],
   "source": [
    "class OddEven:\n",
    "    def OddEven():\n",
    "        num=int(input(\"Enter the Number:\"))\n",
    "        if(num%2!=0):\n",
    "            print(num,\" is Odd Numer\")\n",
    "        else:\n",
    "            print(num,\"is Even Number\")    "
   ]
  },
  {
   "cell_type": "code",
   "execution_count": 13,
   "id": "23c79872-17f9-4c70-bff1-735b99100819",
   "metadata": {},
   "outputs": [
    {
     "name": "stdin",
     "output_type": "stream",
     "text": [
      "Enter the Number: 52452\n"
     ]
    },
    {
     "name": "stdout",
     "output_type": "stream",
     "text": [
      "52452 is Even Number\n"
     ]
    }
   ],
   "source": [
    "OddEven.OddEven()"
   ]
  },
  {
   "cell_type": "code",
   "execution_count": 15,
   "id": "0ae9c427-024a-4f58-bbf2-0fad61f13646",
   "metadata": {},
   "outputs": [
    {
     "name": "stdin",
     "output_type": "stream",
     "text": [
      "Enter the Number: 52453\n"
     ]
    },
    {
     "name": "stdout",
     "output_type": "stream",
     "text": [
      "52453  is Odd Numer\n"
     ]
    }
   ],
   "source": [
    "OddEven.OddEven()"
   ]
  },
  {
   "cell_type": "code",
   "execution_count": null,
   "id": "28f09c4d-6a3a-47ef-9f59-581dee053b15",
   "metadata": {},
   "outputs": [],
   "source": [
    "# Create a function that tells elegibility of marriage for male and female according to their age limit like 21 for male and 18 for female"
   ]
  },
  {
   "cell_type": "code",
   "execution_count": 17,
   "id": "2bc6f74a-f581-428a-a062-430daeb76e39",
   "metadata": {},
   "outputs": [],
   "source": [
    "class merrgeElegible:\n",
    "    def Elegible():\n",
    "        gender=input(\"Your Gender :\")\n",
    "        age=int(input(\"Your Age :\"))\n",
    "        if (gender==\"Male\"):\n",
    "            if(age>21):\n",
    "                print(\"Elegible\")\n",
    "            else:\n",
    "                print(\"Not Elegible\")\n",
    "        elif (gender==\"Female\") :\n",
    "            if(age>18):\n",
    "                print(\"Elegible\")\n",
    "            else:\n",
    "                print(\"Not Elegible\") \n",
    "        else:\n",
    "            print(\"Invalid Input Value\")"
   ]
  },
  {
   "cell_type": "code",
   "execution_count": 19,
   "id": "72644b5b-dae5-4dfc-989b-571a13c7847b",
   "metadata": {},
   "outputs": [
    {
     "name": "stdin",
     "output_type": "stream",
     "text": [
      "Your Gender : Male\n",
      "Your Age : 18\n"
     ]
    },
    {
     "name": "stdout",
     "output_type": "stream",
     "text": [
      "Not Elegible\n"
     ]
    }
   ],
   "source": [
    "merrgeElegible.Elegible()"
   ]
  },
  {
   "cell_type": "code",
   "execution_count": null,
   "id": "fa74701a-0e64-4d98-9e5a-cd33c9b7fab0",
   "metadata": {},
   "outputs": [],
   "source": [
    "# calculate the percentage of your 10th mark"
   ]
  },
  {
   "cell_type": "code",
   "execution_count": 21,
   "id": "cba5962a-5c16-405e-ad40-4d34807ba392",
   "metadata": {},
   "outputs": [],
   "source": [
    "class calculatePercentge:\n",
    "    def percentage():\n",
    "        m1=int(input(\"Subject1 =\"))\n",
    "        m2=int(input(\"Subject2 =\"))\n",
    "        m3=int(input(\"Subject3 =\"))\n",
    "        m4=int(input(\"Subject4 =\"))\n",
    "        m5=int(input(\"Subject5 =\"))\n",
    "        total=m1+m2+m3+m4+m5\n",
    "        percent=(total/500)*100\n",
    "        print(\"Percentage : \",percent)"
   ]
  },
  {
   "cell_type": "code",
   "execution_count": 27,
   "id": "1c4df444-134b-4ee0-bbfc-702da4373ec6",
   "metadata": {},
   "outputs": [
    {
     "name": "stdin",
     "output_type": "stream",
     "text": [
      "Subject1 = 98\n",
      "Subject2 = 87\n",
      "Subject3 = 95\n",
      "Subject4 = 95\n",
      "Subject5 = 93\n"
     ]
    },
    {
     "name": "stdout",
     "output_type": "stream",
     "text": [
      "Percentage :  93.60000000000001\n"
     ]
    }
   ],
   "source": [
    "calculatePercentge.percentage()"
   ]
  },
  {
   "cell_type": "code",
   "execution_count": null,
   "id": "837de51e-554d-4f67-8e4b-5240a940a812",
   "metadata": {},
   "outputs": [],
   "source": [
    "#print area and perimeter of triangle using class and functions"
   ]
  },
  {
   "cell_type": "code",
   "execution_count": 35,
   "id": "6346eebe-745b-4194-aafd-828b6dc58b75",
   "metadata": {},
   "outputs": [],
   "source": [
    "class triangle:\n",
    "    def triangle():\n",
    "        height=int(input(\"Height :\"))\n",
    "        breadth=int(input(\"Breadth :\"))\n",
    "        print(\"Area Formula : (height*breadth)/2\")\n",
    "        area=height*breadth/2\n",
    "        print(\"Area of Triangle : \",area)\n",
    "        height1=int(input(\"Height1 :\"))\n",
    "        height2=int(input(\"Height2 :\"))\n",
    "        breadth=int(input(\"Breadth :\"))\n",
    "        print(\"Perimeter formula: height1+height2+breadth\")\n",
    "        perimeter=height1+height2+breadth\n",
    "        print(\"Perimeter of Triangle: \",perimeter)"
   ]
  },
  {
   "cell_type": "code",
   "execution_count": 37,
   "id": "621a849d-117b-4b3a-a1aa-373fc587a27e",
   "metadata": {},
   "outputs": [
    {
     "name": "stdin",
     "output_type": "stream",
     "text": [
      "Height : 32\n",
      "Breadth : 34\n"
     ]
    },
    {
     "name": "stdout",
     "output_type": "stream",
     "text": [
      "Area Formula : (height*breadth)/2\n",
      "Area of Triangle :  544.0\n"
     ]
    },
    {
     "name": "stdin",
     "output_type": "stream",
     "text": [
      "Height1 : 2\n",
      "Height2 : 4\n",
      "Breadth : 4\n"
     ]
    },
    {
     "name": "stdout",
     "output_type": "stream",
     "text": [
      "Perimeter formula: height1+height2+breadth\n",
      "Perimeter of Triangle:  10\n"
     ]
    }
   ],
   "source": [
    "triangle.triangle()"
   ]
  },
  {
   "cell_type": "code",
   "execution_count": null,
   "id": "0209c946-6f6b-43bf-976c-66e0ff0858af",
   "metadata": {},
   "outputs": [],
   "source": []
  },
  {
   "cell_type": "code",
   "execution_count": null,
   "id": "3fb4547a-8f5e-478a-b95a-899b51726cb9",
   "metadata": {},
   "outputs": [],
   "source": []
  }
 ],
 "metadata": {
  "kernelspec": {
   "display_name": "Python 3 (ipykernel)",
   "language": "python",
   "name": "python3"
  },
  "language_info": {
   "codemirror_mode": {
    "name": "ipython",
    "version": 3
   },
   "file_extension": ".py",
   "mimetype": "text/x-python",
   "name": "python",
   "nbconvert_exporter": "python",
   "pygments_lexer": "ipython3",
   "version": "3.12.7"
  }
 },
 "nbformat": 4,
 "nbformat_minor": 5
}
