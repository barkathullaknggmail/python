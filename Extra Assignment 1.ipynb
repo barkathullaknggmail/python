{
 "cells": [
  {
   "cell_type": "code",
   "execution_count": 1,
   "id": "30a757cf-2bbd-45d7-ba16-82afedcc190b",
   "metadata": {},
   "outputs": [
    {
     "name": "stdout",
     "output_type": "stream",
     "text": [
      "HOPE AI\n"
     ]
    }
   ],
   "source": [
    "print(\"HOPE AI\")"
   ]
  },
  {
   "cell_type": "code",
   "execution_count": null,
   "id": "781d3acf-3a4a-4cd1-adb4-bdb4894c6ec4",
   "metadata": {},
   "outputs": [
    {
     "name": "stdin",
     "output_type": "stream",
     "text": [
      "Enter Your Institute Name?  HOPE AI\n"
     ]
    }
   ],
   "source": [
    "InstName=input(\"Enter Your Institute Name? \")"
   ]
  },
  {
   "cell_type": "code",
   "execution_count": 1,
   "id": "9002c15c-8b8c-4e8c-ade8-04352228b706",
   "metadata": {},
   "outputs": [
    {
     "name": "stdin",
     "output_type": "stream",
     "text": [
      "Enter your Name:  Raj\n",
      "Enter your Age:  15\n",
      "Enter your School Name:  Guru School\n",
      "Enter your degree:  B.E CSE\n"
     ]
    }
   ],
   "source": [
    "name=input(\"Enter your Name: \")\n",
    "age=input(\"Enter your Age: \")\n",
    "schoolName=input(\"Enter your School Name: \")\n",
    "ug=input(\"Enter your degree: \")"
   ]
  },
  {
   "cell_type": "code",
   "execution_count": 25,
   "id": "e0dd551f-ab55-4dbd-81cd-1eacdb01b10c",
   "metadata": {},
   "outputs": [
    {
     "name": "stdin",
     "output_type": "stream",
     "text": [
      "a =  43\n",
      "b =  34\n"
     ]
    },
    {
     "name": "stdout",
     "output_type": "stream",
     "text": [
      "add =  77\n"
     ]
    }
   ],
   "source": [
    "num1=int(input(\"a = \"))\n",
    "num2=int(input(\"b = \"))\n",
    "print(\"add = \",num1+num2)\n"
   ]
  },
  {
   "cell_type": "code",
   "execution_count": 27,
   "id": "8b50852b-ef2f-46ef-8a56-b407b82acdbe",
   "metadata": {},
   "outputs": [
    {
     "name": "stdin",
     "output_type": "stream",
     "text": [
      "a =  43\n",
      "b =  34\n"
     ]
    },
    {
     "name": "stdout",
     "output_type": "stream",
     "text": [
      "sub =  9\n"
     ]
    }
   ],
   "source": [
    "num1=int(input(\"a = \"))\n",
    "num2=int(input(\"b = \"))\n",
    "print(\"sub = \",num1-num2)"
   ]
  },
  {
   "cell_type": "code",
   "execution_count": 29,
   "id": "23a5e91b-3e72-46d9-9b67-8a351d1795fa",
   "metadata": {},
   "outputs": [
    {
     "name": "stdin",
     "output_type": "stream",
     "text": [
      "a =  63\n",
      "b =  97\n"
     ]
    },
    {
     "name": "stdout",
     "output_type": "stream",
     "text": [
      "mul =  6111\n"
     ]
    }
   ],
   "source": [
    "num1=int(input(\"a = \"))\n",
    "num2=int(input(\"b = \"))\n",
    "print(\"mul = \",num1*num2)"
   ]
  },
  {
   "cell_type": "code",
   "execution_count": 33,
   "id": "d458d682-ca59-426f-85f3-053fd3814d32",
   "metadata": {},
   "outputs": [
    {
     "name": "stdin",
     "output_type": "stream",
     "text": [
      "a =  76\n",
      "b =  31\n"
     ]
    },
    {
     "name": "stdout",
     "output_type": "stream",
     "text": [
      "Float div =  2.4516129032258065\n"
     ]
    }
   ],
   "source": [
    "num1=int(input(\"a = \"))\n",
    "num2=int(input(\"b = \"))\n",
    "print(\"Float div = \",num1/num2)"
   ]
  },
  {
   "cell_type": "code",
   "execution_count": 35,
   "id": "d161b578-2f0b-4fa4-8254-bb769bf46a33",
   "metadata": {},
   "outputs": [
    {
     "name": "stdin",
     "output_type": "stream",
     "text": [
      "a =  76\n",
      "b =  31\n"
     ]
    },
    {
     "name": "stdout",
     "output_type": "stream",
     "text": [
      "Floor div =  2\n"
     ]
    }
   ],
   "source": [
    "num1=int(input(\"a = \"))\n",
    "num2=int(input(\"b = \"))\n",
    "print(\"Floor div = \",num1//num2)"
   ]
  },
  {
   "cell_type": "code",
   "execution_count": 37,
   "id": "0768bc5e-9646-4409-a289-fcf4adf91ed2",
   "metadata": {},
   "outputs": [
    {
     "name": "stdin",
     "output_type": "stream",
     "text": [
      "a =  76\n",
      "b =  31\n"
     ]
    },
    {
     "name": "stdout",
     "output_type": "stream",
     "text": [
      "Modulo =  14\n"
     ]
    }
   ],
   "source": [
    "num1=int(input(\"a = \"))\n",
    "num2=int(input(\"b = \"))\n",
    "print(\"Modulo = \",num1%num2)"
   ]
  },
  {
   "cell_type": "code",
   "execution_count": 41,
   "id": "445906d4-f880-484f-afe1-c992da611d7d",
   "metadata": {},
   "outputs": [
    {
     "name": "stdin",
     "output_type": "stream",
     "text": [
      "a =  4\n",
      "b =  4\n"
     ]
    },
    {
     "name": "stdout",
     "output_type": "stream",
     "text": [
      "power =  256\n"
     ]
    }
   ],
   "source": [
    "num1=int(input(\"a = \"))\n",
    "num2=int(input(\"b = \"))\n",
    "print(\"power = \",num1**num2)"
   ]
  },
  {
   "cell_type": "code",
   "execution_count": null,
   "id": "edb2add6-ab40-46f8-b83f-c6c0a2104523",
   "metadata": {},
   "outputs": [],
   "source": []
  }
 ],
 "metadata": {
  "kernelspec": {
   "display_name": "Python 3 (ipykernel)",
   "language": "python",
   "name": "python3"
  },
  "language_info": {
   "codemirror_mode": {
    "name": "ipython",
    "version": 3
   },
   "file_extension": ".py",
   "mimetype": "text/x-python",
   "name": "python",
   "nbconvert_exporter": "python",
   "pygments_lexer": "ipython3",
   "version": "3.12.7"
  }
 },
 "nbformat": 4,
 "nbformat_minor": 5
}
