{
 "cells": [
  {
   "cell_type": "code",
   "execution_count": 27,
   "id": "3e17f91a-14ba-4aa9-a16f-d0be3a1f1a40",
   "metadata": {},
   "outputs": [],
   "source": [
    "from ManyFunction1 import mulFunction"
   ]
  },
  {
   "cell_type": "code",
   "execution_count": 31,
   "id": "15db897c-0cb6-42d1-a322-d0ef39f2c9a2",
   "metadata": {},
   "outputs": [
    {
     "name": "stdout",
     "output_type": "stream",
     "text": [
      "Sub-fields in AI are:\n",
      "Machine Learning\n",
      "Neural Networks\n",
      "Vision\n",
      "Robotics\n",
      "Speech Processing\n",
      "Natural Language Processing\n"
     ]
    }
   ],
   "source": [
    "mulFunction.Subfields()"
   ]
  },
  {
   "cell_type": "code",
   "execution_count": 29,
   "id": "c3fa6609-eab7-45f5-af13-2d56d543c1e9",
   "metadata": {},
   "outputs": [
    {
     "name": "stdin",
     "output_type": "stream",
     "text": [
      "Enter the Number: 25\n"
     ]
    },
    {
     "name": "stdout",
     "output_type": "stream",
     "text": [
      "25  is Odd Numer\n"
     ]
    }
   ],
   "source": [
    "mulFunction.OddEven()"
   ]
  },
  {
   "cell_type": "code",
   "execution_count": 33,
   "id": "c2bc99af-0e4c-497a-8234-d7c89326d9b3",
   "metadata": {},
   "outputs": [
    {
     "name": "stdin",
     "output_type": "stream",
     "text": [
      "Your Gender : Female\n",
      "Your Age : 19\n"
     ]
    },
    {
     "name": "stdout",
     "output_type": "stream",
     "text": [
      "Elegible\n"
     ]
    }
   ],
   "source": [
    "mulFunction.Elegible()"
   ]
  },
  {
   "cell_type": "code",
   "execution_count": 37,
   "id": "1345a5b3-6464-4829-b58c-3518342ce2d4",
   "metadata": {},
   "outputs": [
    {
     "name": "stdin",
     "output_type": "stream",
     "text": [
      "Subject1 = 98\n",
      "Subject2 = 87\n",
      "Subject3 = 95\n",
      "Subject4 = 95\n",
      "Subject5 = 93\n"
     ]
    },
    {
     "name": "stdout",
     "output_type": "stream",
     "text": [
      "Percentage :  93.60000000000001\n"
     ]
    }
   ],
   "source": [
    "mulFunction.percentage()"
   ]
  },
  {
   "cell_type": "code",
   "execution_count": 39,
   "id": "4cf72fda-d663-44c9-96a8-94d7ab2adf69",
   "metadata": {},
   "outputs": [
    {
     "name": "stdin",
     "output_type": "stream",
     "text": [
      "Height : 32\n",
      "Breadth : 34\n"
     ]
    },
    {
     "name": "stdout",
     "output_type": "stream",
     "text": [
      "Area Formula : (height*breadth)/2\n",
      "Area of Triangle :  544.0\n"
     ]
    },
    {
     "name": "stdin",
     "output_type": "stream",
     "text": [
      "Height1 : 2\n",
      "Height2 : 4\n",
      "Breadth : 4\n"
     ]
    },
    {
     "name": "stdout",
     "output_type": "stream",
     "text": [
      "Perimeter formula: height1+height2+breadth\n",
      "Perimeter of Triangle:  10\n"
     ]
    }
   ],
   "source": [
    "mulFunction.triangle()"
   ]
  },
  {
   "cell_type": "code",
   "execution_count": null,
   "id": "4fa7c7d2-2764-4cef-bb7f-e58333c665f6",
   "metadata": {},
   "outputs": [],
   "source": []
  }
 ],
 "metadata": {
  "kernelspec": {
   "display_name": "Python 3 (ipykernel)",
   "language": "python",
   "name": "python3"
  },
  "language_info": {
   "codemirror_mode": {
    "name": "ipython",
    "version": 3
   },
   "file_extension": ".py",
   "mimetype": "text/x-python",
   "name": "python",
   "nbconvert_exporter": "python",
   "pygments_lexer": "ipython3",
   "version": "3.12.7"
  }
 },
 "nbformat": 4,
 "nbformat_minor": 5
}
