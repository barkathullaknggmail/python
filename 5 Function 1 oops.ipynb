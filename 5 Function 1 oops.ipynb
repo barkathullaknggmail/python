{
 "cells": [
  {
   "cell_type": "code",
   "execution_count": 1,
   "id": "fdbde402-c58c-4ff2-8c42-66a6e662310f",
   "metadata": {},
   "outputs": [],
   "source": [
    "def AgeCategory():\n",
    "        if(age<18):\n",
    "            print(\"Children\")\n",
    "            cate=\"Children\"\n",
    "        elif(age<35):\n",
    "            print(\"Adult\")\n",
    "            cate=\"Adult\"\n",
    "        elif(age<59):\n",
    "            print(\"Citizen\")\n",
    "            cate=\"Citizen\"\n",
    "        else:\n",
    "            print(\"Senior Citizen\")\n",
    "            cate = \"Senior Citizen\"\n",
    "        return cate"
   ]
  },
  {
   "cell_type": "code",
   "execution_count": 3,
   "id": "cb81077b-62fe-4a8c-a7a0-074bb98c1114",
   "metadata": {},
   "outputs": [
    {
     "name": "stdin",
     "output_type": "stream",
     "text": [
      "Enter the AGE :  25\n"
     ]
    },
    {
     "name": "stdout",
     "output_type": "stream",
     "text": [
      "Adult\n"
     ]
    }
   ],
   "source": [
    "age=int(input(\"Enter the AGE : \"))\n",
    "agecate = AgeCategory()"
   ]
  },
  {
   "cell_type": "code",
   "execution_count": 5,
   "id": "e2d90aa3-103b-49cf-a933-2fcd11221e40",
   "metadata": {},
   "outputs": [
    {
     "name": "stdout",
     "output_type": "stream",
     "text": [
      "Adult\n"
     ]
    }
   ],
   "source": [
    "print(agecate)"
   ]
  },
  {
   "cell_type": "code",
   "execution_count": 7,
   "id": "122d0486-ae8a-456c-aa80-9cc4f5e1afa0",
   "metadata": {},
   "outputs": [],
   "source": [
    "def AgeCategoryNoReturn():\n",
    "        if(age<18):\n",
    "            print(\"Children\")\n",
    "            cate=\"Children\"\n",
    "        elif(age<35):\n",
    "            print(\"Adult\")\n",
    "            cate=\"Adult\"\n",
    "        elif(age<59):\n",
    "            print(\"Citizen\")\n",
    "            cate=\"Citizen\"\n",
    "        else:\n",
    "            print(\"Senior Citizen\")\n",
    "            cate = \"Senior Citizen\""
   ]
  },
  {
   "cell_type": "code",
   "execution_count": 9,
   "id": "e3b5aac4-bea2-4681-b6bc-13feda76788e",
   "metadata": {},
   "outputs": [
    {
     "name": "stdin",
     "output_type": "stream",
     "text": [
      "Enter the AGE :  10\n"
     ]
    },
    {
     "name": "stdout",
     "output_type": "stream",
     "text": [
      "Children\n"
     ]
    }
   ],
   "source": [
    "age=int(input(\"Enter the AGE : \"))\n",
    "agecate = AgeCategoryNoReturn()"
   ]
  },
  {
   "cell_type": "code",
   "execution_count": 11,
   "id": "f43f9dd3-c72a-4316-874f-56b9c840d47c",
   "metadata": {},
   "outputs": [
    {
     "name": "stdout",
     "output_type": "stream",
     "text": [
      "None\n"
     ]
    }
   ],
   "source": [
    "print(agecate)"
   ]
  },
  {
   "cell_type": "code",
   "execution_count": 15,
   "id": "b1bae92c-c8dc-4a19-aa21-6d365fa8c8b4",
   "metadata": {},
   "outputs": [
    {
     "name": "stdin",
     "output_type": "stream",
     "text": [
      "Enter the AGE :  62\n"
     ]
    },
    {
     "name": "stdout",
     "output_type": "stream",
     "text": [
      "Senior Citizen\n"
     ]
    }
   ],
   "source": [
    "age=int(input(\"Enter the AGE : \"))\n",
    "agecate = AgeCategory()"
   ]
  },
  {
   "cell_type": "code",
   "execution_count": 23,
   "id": "da59813a-5a74-4ad4-bcb5-7b46ab13b467",
   "metadata": {},
   "outputs": [],
   "source": [
    "def OddEven():\n",
    "    num=int(input(\"Enter the Number :\"))\n",
    "    if(num%2==1):\n",
    "        print(\"Odd Number\")\n",
    "        message=\"Odd Number\"\n",
    "    else:\n",
    "        print(\"Even Number\")\n",
    "        message=\"Even Number\"\n",
    "    return message\n",
    "        "
   ]
  },
  {
   "cell_type": "code",
   "execution_count": 31,
   "id": "78e40c3a-af90-48f4-b769-1bf8ddda8f0f",
   "metadata": {},
   "outputs": [
    {
     "name": "stdin",
     "output_type": "stream",
     "text": [
      "Enter the Number : 5\n"
     ]
    },
    {
     "name": "stdout",
     "output_type": "stream",
     "text": [
      "Odd Number\n"
     ]
    }
   ],
   "source": [
    "message=OddEven()"
   ]
  },
  {
   "cell_type": "code",
   "execution_count": 33,
   "id": "e500399e-7628-46ad-ab4d-22c7fc52a0fb",
   "metadata": {},
   "outputs": [
    {
     "name": "stdout",
     "output_type": "stream",
     "text": [
      "The given number is Odd\n"
     ]
    }
   ],
   "source": [
    "if(message ==\"Even Number\"):\n",
    "    print(\"The given number is Even\")\n",
    "else:\n",
    "    print(\"The given number is Odd\")\n"
   ]
  },
  {
   "cell_type": "code",
   "execution_count": 65,
   "id": "ccd8e1e2-a3b3-4b0c-aefc-caf24c154a0e",
   "metadata": {},
   "outputs": [],
   "source": [
    "def BMII():\n",
    "    BMI=int(input(\"Enter the BM Index\"))\n",
    "    if(BMI<18.5):\n",
    "        print(\"UnderWeight\")\n",
    "        message=\"UnderWeight\" \n",
    "    elif(BMI<24.9):\n",
    "        print(\"Normal\")\n",
    "        message=\"Normal\"\n",
    "    elif(BMI<29.9):\n",
    "        print(\"OVer Weight\")\n",
    "        message=\"Over Weight\"\n",
    "    else:\n",
    "        print(\"Very Overweight\")\n",
    "        message=\"Very Overweight\"\n",
    "    return message"
   ]
  },
  {
   "cell_type": "code",
   "execution_count": 67,
   "id": "3f03dcdc-5a37-419b-84a1-03c9925b2f38",
   "metadata": {},
   "outputs": [
    {
     "name": "stdin",
     "output_type": "stream",
     "text": [
      "Enter the BM Index 28\n"
     ]
    },
    {
     "name": "stdout",
     "output_type": "stream",
     "text": [
      "OVer Weight\n",
      "Over Weight\n"
     ]
    }
   ],
   "source": [
    "bmi=BMII()\n",
    "print(bmi)"
   ]
  },
  {
   "cell_type": "code",
   "execution_count": 87,
   "id": "46760044-36c8-4028-8d24-8db4b4e92456",
   "metadata": {},
   "outputs": [],
   "source": [
    "def subtract(n1,n2):\n",
    "    sub=n1-n2\n",
    "    return sub"
   ]
  },
  {
   "cell_type": "code",
   "execution_count": 85,
   "id": "2a97a069-f21b-421f-8c3c-2409b351c77a",
   "metadata": {},
   "outputs": [
    {
     "data": {
      "text/plain": [
       "5"
      ]
     },
     "execution_count": 85,
     "metadata": {},
     "output_type": "execute_result"
    }
   ],
   "source": [
    "subtract(10,5)"
   ]
  },
  {
   "cell_type": "code",
   "execution_count": 93,
   "id": "828288a4-be9c-46dc-a2e2-7dcd5b724984",
   "metadata": {},
   "outputs": [
    {
     "ename": "TypeError",
     "evalue": "subtract() takes 2 positional arguments but 3 were given",
     "output_type": "error",
     "traceback": [
      "\u001b[1;31m---------------------------------------------------------------------------\u001b[0m",
      "\u001b[1;31mTypeError\u001b[0m                                 Traceback (most recent call last)",
      "Cell \u001b[1;32mIn[93], line 1\u001b[0m\n\u001b[1;32m----> 1\u001b[0m subtract(\u001b[38;5;241m10\u001b[39m,\u001b[38;5;241m5\u001b[39m,\u001b[38;5;241m9\u001b[39m)\n",
      "\u001b[1;31mTypeError\u001b[0m: subtract() takes 2 positional arguments but 3 were given"
     ]
    }
   ],
   "source": [
    "subtract(10,5,9)"
   ]
  },
  {
   "cell_type": "code",
   "execution_count": 95,
   "id": "f5241f0a-b1d5-427b-bb2d-7d996d4737d6",
   "metadata": {},
   "outputs": [],
   "source": [
    "class multilpleFunction():\n",
    "    def BMII():\n",
    "        BMI=int(input(\"Enter the BM Index\"))\n",
    "        if(BMI<18.5):\n",
    "            print(\"UnderWeight\")\n",
    "            message=\"UnderWeight\" \n",
    "        elif(BMI<24.9):\n",
    "            print(\"Normal\")\n",
    "            message=\"Normal\"\n",
    "        elif(BMI<29.9):\n",
    "            print(\"OVer Weight\")\n",
    "            message=\"Over Weight\"\n",
    "        else:\n",
    "            print(\"Very Overweight\")\n",
    "            message=\"Very Overweight\"\n",
    "        return message\n",
    "    def OddEven():\n",
    "        num=int(input(\"Enter the Number :\"))\n",
    "        if(num%2==1):\n",
    "            print(\"Odd Number\")\n",
    "            message=\"Odd Number\"\n",
    "        else:\n",
    "            print(\"Even Number\")\n",
    "            message=\"Even Number\"\n",
    "        return message"
   ]
  },
  {
   "cell_type": "code",
   "execution_count": 99,
   "id": "903adcd0-4407-4e16-b902-e26641182fb0",
   "metadata": {},
   "outputs": [
    {
     "name": "stdin",
     "output_type": "stream",
     "text": [
      "Enter the BM Index 45\n"
     ]
    },
    {
     "name": "stdout",
     "output_type": "stream",
     "text": [
      "Very Overweight\n"
     ]
    },
    {
     "data": {
      "text/plain": [
       "'Very Overweight'"
      ]
     },
     "execution_count": 99,
     "metadata": {},
     "output_type": "execute_result"
    }
   ],
   "source": [
    "multilpleFunction.BMII()"
   ]
  },
  {
   "cell_type": "code",
   "execution_count": 101,
   "id": "e8a5aca9-0d7d-4bac-8118-7a8a29812231",
   "metadata": {},
   "outputs": [
    {
     "name": "stdin",
     "output_type": "stream",
     "text": [
      "Enter the Number : 45\n"
     ]
    },
    {
     "name": "stdout",
     "output_type": "stream",
     "text": [
      "Odd Number\n"
     ]
    },
    {
     "data": {
      "text/plain": [
       "'Odd Number'"
      ]
     },
     "execution_count": 101,
     "metadata": {},
     "output_type": "execute_result"
    }
   ],
   "source": [
    "multilpleFunction. OddEven()"
   ]
  },
  {
   "cell_type": "code",
   "execution_count": null,
   "id": "5e7b2283-5b61-48d6-be07-9dd4648e1e88",
   "metadata": {},
   "outputs": [],
   "source": []
  }
 ],
 "metadata": {
  "kernelspec": {
   "display_name": "Python 3 (ipykernel)",
   "language": "python",
   "name": "python3"
  },
  "language_info": {
   "codemirror_mode": {
    "name": "ipython",
    "version": 3
   },
   "file_extension": ".py",
   "mimetype": "text/x-python",
   "name": "python",
   "nbconvert_exporter": "python",
   "pygments_lexer": "ipython3",
   "version": "3.12.7"
  }
 },
 "nbformat": 4,
 "nbformat_minor": 5
}
